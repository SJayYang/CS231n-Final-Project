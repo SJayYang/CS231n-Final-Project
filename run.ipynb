{
 "cells": [
  {
   "cell_type": "code",
   "execution_count": null,
   "metadata": {},
   "outputs": [],
   "source": [
    "import os\n",
    "import torch\n",
    "from PIL import Image\n",
    "from torchvision import transforms\n",
    "from torchvision.utils import save_image\n",
    "from diffusers import StableDiffusionPipeline\n"
   ]
  },
  {
   "cell_type": "code",
   "execution_count": null,
   "metadata": {},
   "outputs": [],
   "source": [
    "# Step 1: Define the output directory\n",
    "output_dir = '/home/ubuntu/CS231n-Final-Project/generated_images'\n",
    "os.makedirs(output_dir, exist_ok=True)\n",
    "\n",
    "# Step 2: Set the desired file format and compression level (for JPEG)\n",
    "file_format = 'JPEG'\n",
    "compression_level = 80\n"
   ]
  },
  {
   "cell_type": "code",
   "execution_count": null,
   "metadata": {},
   "outputs": [],
   "source": [
    "# Step 3: Load the RoentGen model\n",
    "model_path = \"/home/ubuntu/roentgen\"\n",
    "device='cuda'  # or mps, cpu...\n",
    "pipe = StableDiffusionPipeline.from_pretrained(model_path)\n",
    "pipe = pipe.to(device)\n"
   ]
  },
  {
   "cell_type": "code",
   "execution_count": null,
   "metadata": {},
   "outputs": [],
   "source": [
    "# Step 4: Run stable diffusion image generation\n",
    "prompts = [\"big right-sided pleural effusion\", \"colorful sunset\", \"abstract art\"]\n",
    "\n",
    "output = pipe(prompts, num_inference_steps=75, height=512, width=512, guidance_scale=4)\n",
    "generated_images = output.images"
   ]
  },
  {
   "cell_type": "code",
   "execution_count": null,
   "metadata": {},
   "outputs": [],
   "source": [
    "# Step 5: Enable progressive loading (for JPEG)\n",
    "image_options = {'progressive': True} if file_format == 'JPEG' else {}\n",
    "\n",
    "# Step 6: Save the images\n",
    "for i, generated_image in enumerate(generated_images):\n",
    "\n",
    "    # Save the image\n",
    "    image_name = f'image_{i}.{file_format.lower()}'\n",
    "    output_path = os.path.join(output_dir, image_name)\n",
    "    generated_image.save(output_path, format=file_format, optimize=True, quality=compression_level, **image_options)\n",
    "\n",
    "    # Optionally display progress or other post-processing steps\n",
    "\n",
    "print(\"Image generation and saving completed!\")"
   ]
  }
 ],
 "metadata": {
  "kernelspec": {
   "display_name": "final_project",
   "language": "python",
   "name": "python3"
  },
  "language_info": {
   "codemirror_mode": {
    "name": "ipython",
    "version": 3
   },
   "file_extension": ".py",
   "mimetype": "text/x-python",
   "name": "python",
   "nbconvert_exporter": "python",
   "pygments_lexer": "ipython3",
   "version": "3.10.10"
  },
  "orig_nbformat": 4
 },
 "nbformat": 4,
 "nbformat_minor": 2
}
